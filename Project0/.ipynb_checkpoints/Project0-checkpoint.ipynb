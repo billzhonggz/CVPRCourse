{
 "cells": [
  {
   "cell_type": "markdown",
   "metadata": {},
   "source": [
    "# Project 0\n",
    "In matlab, open and show an image,\n",
    "\n",
    "Write a matlab function (function histImg()) of histogram, cumulative histogram without using histogram(),etc. Show them in a figure.\n",
    "\n",
    "Write a matlab function (function histEqual()) of histogram equalization without using histeq(). Show the resulting image in a figure.\n",
    "\n",
    "Write three matlab functions for linearly transforming (function linTransformImg()), smoothing(function smoothImg()), sharpening(function sharpenImage) the image. Show the resulting image in a figure."
   ]
  },
  {
   "cell_type": "code",
   "execution_count": 4,
   "metadata": {},
   "outputs": [],
   "source": [
    "# Import packages.\n",
    "import cv2\n",
    "import numpy as np"
   ]
  },
  {
   "cell_type": "code",
   "execution_count": 5,
   "metadata": {},
   "outputs": [
    {
     "name": "stdout",
     "output_type": "stream",
     "text": [
      "3.1.0\n",
      "1.14.3\n"
     ]
    }
   ],
   "source": [
    "# Some test\n",
    "print(cv2.__version__)\n",
    "print(np.__version__)"
   ]
  },
  {
   "cell_type": "markdown",
   "metadata": {},
   "source": [
    "## Import & show an image\n",
    "*Open & show the image 1.jpg.*\n",
    "\n",
    "Refer to: https://docs.opencv.org/3.0-beta/doc/py_tutorials/py_gui/py_image_display/py_image_display.html"
   ]
  },
  {
   "cell_type": "code",
   "execution_count": 9,
   "metadata": {},
   "outputs": [],
   "source": [
    "# Load an color image in grayscale.\n",
    "img = cv2.imread('1.jpg',0)\n",
    "# Show the image.\n",
    "cv2.imshow('1', img)\n",
    "# Wait for user to close the window.\n",
    "cv2.waitKey(0)\n",
    "cv2.destroyAllWindows()"
   ]
  },
  {
   "cell_type": "markdown",
   "metadata": {},
   "source": [
    "## Create a histogram by hand\n",
    "*Do not use a stock function, just create your histogram by hand.*"
   ]
  },
  {
   "cell_type": "code",
   "execution_count": null,
   "metadata": {},
   "outputs": [],
   "source": []
  }
 ],
 "metadata": {
  "kernelspec": {
   "display_name": "Python 3",
   "language": "python",
   "name": "python3"
  },
  "language_info": {
   "codemirror_mode": {
    "name": "ipython",
    "version": 3
   },
   "file_extension": ".py",
   "mimetype": "text/x-python",
   "name": "python",
   "nbconvert_exporter": "python",
   "pygments_lexer": "ipython3",
   "version": "3.5.5"
  }
 },
 "nbformat": 4,
 "nbformat_minor": 2
}
